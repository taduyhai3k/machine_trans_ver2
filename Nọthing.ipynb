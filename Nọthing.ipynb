{
 "cells": [
  {
   "cell_type": "code",
   "execution_count": 1,
   "metadata": {},
   "outputs": [],
   "source": [
    "import pandas as pd\n",
    "import re\n",
    "import json\n",
    "import MyData as md\n",
    "import torch\n",
    "from layer import InputEmbed as IE\n",
    "import MyTrans\n",
    "import utils"
   ]
  },
  {
   "cell_type": "code",
   "execution_count": 2,
   "metadata": {},
   "outputs": [],
   "source": [
    "with open(\"data/train1.json\", 'r', encoding= 'utf-8') as file:\n",
    "    data = json.load(file)\n",
    "# with open(\"data/train.json\", \"r\", encoding='utf-8') as file:\n",
    "#     train = json.load(file)\n",
    "# with open(\"data/test.json\", \"r\", encoding='utf-8') as file:\n",
    "#     test = json.load(file)\n",
    "# with open(\"data/valid.json\", \"r\", encoding='utf-8') as file:\n",
    "#     valid = json.load(file)    \n",
    "    "
   ]
  },
  {
   "cell_type": "code",
   "execution_count": 2,
   "metadata": {},
   "outputs": [],
   "source": [
    "with open(\"vocab/vocabE1.json\", \"r\", encoding='utf-8') as file:\n",
    "    vocabE = json.load(file)  \n",
    "with open(\"vocab/vocabV1.json\", \"r\", encoding='utf-8') as file:\n",
    "    vocabV = json.load(file)  \n",
    "    \n",
    "E_tokenizer = md.MyTokenizer(vocabE)\n",
    "V_tokenizer = md.MyTokenizer(vocabV)    "
   ]
  },
  {
   "cell_type": "code",
   "execution_count": 3,
   "metadata": {},
   "outputs": [],
   "source": [
    "data = md.DataLoader(md.EV_Data(data_path= \"data/test1.json\", E_vocab_path= \"vocab/vocabE1.json\", V_vocab_path= \"vocab/vocabV1.json\", inp='V', out= 'E'), batch_size= 2)"
   ]
  },
  {
   "cell_type": "code",
   "execution_count": 4,
   "metadata": {},
   "outputs": [
    {
     "data": {
      "text/plain": [
       "<All keys matched successfully>"
      ]
     },
     "execution_count": 4,
     "metadata": {},
     "output_type": "execute_result"
    }
   ],
   "source": [
    "results = torch.load(\"checkpoint/bestmodel_parallel.pth\", map_location=torch.device('cpu'))\n",
    "model = MyTrans.TransformerParallel(input_vocab_size= len(vocabE), output_vocab_size= len(vocabV), dmodel = 128, dembed = 128, d_ff = 256, head = 8, layer = 2, dropout = 0.1,\n",
    "                                    eps = 1e-5)\n",
    "model.load_state_dict(results['model'])\n"
   ]
  },
  {
   "cell_type": "code",
   "execution_count": 6,
   "metadata": {},
   "outputs": [],
   "source": [
    "a = next(data._get_iterator())"
   ]
  },
  {
   "cell_type": "code",
   "execution_count": 7,
   "metadata": {},
   "outputs": [],
   "source": [
    "b = model.inference(a[0], 0, 300)"
   ]
  },
  {
   "cell_type": "code",
   "execution_count": 12,
   "metadata": {},
   "outputs": [
    {
     "data": {
      "text/plain": [
       "\"<start> tom won't be here tomorrow . i am sure it's going to be sure i'm not going to be here tomorrow . i'm sure i'm sure i'm sure i'm sure i'm sure i'm sure i'm going to make sure tomorrow . tomorrow . i'm going to be sure to make sure i'm not going to be sure tomorrow . i'm not tomorrow . i'm sure i'm sure it's going to be sure i'm sure i'm going to be sure i'm going to be sure i'm going to make sure tomorrow . tomorrow . i'm sure tomorrow . i'm sure tomorrow . i'm sure i'm sure i'm sure i'm sure tomorrow . i'm going to make sure to make sure i'm sure tomorrow . i'm sure i'm sure i'm sure i'm sure i'm sure tomorrow . i'm sure i'm sure i'm sure . i sure i'm sure . i'm not going to be sure i'm sure i'm sure i'm going to make sure tomorrow . i'll make sure tomorrow . i'm sure i'm not tomorrow . i'm sure i'm sure i'm sure i'm sure i'm going to make sure i'm going to make sure i'm sure tomorrow . i'm sure i'm sure i'm going to make sure i'm sure it's sure . i sure i'm sure . tomorrow . i'm sure i'm going to make sure i'm sure i'm sure i'm sure i'm sure i'm going to tell you <end> sure i'm sure i'm sure tomorrow . i'm sure i'm sure i'm going to make sure i'm sure i'm sure i'm going to make sure i'm going to be here tomorrow . i'll be sure i sure it's not going to make sure tomorrow . i'm sure tomorrow . i'm sure . i'm sure . i'm sure i'm sure tomorrow .\""
      ]
     },
     "execution_count": 12,
     "metadata": {},
     "output_type": "execute_result"
    }
   ],
   "source": [
    "E_tokenizer.decode(b[1])"
   ]
  },
  {
   "cell_type": "code",
   "execution_count": 6,
   "metadata": {},
   "outputs": [
    {
     "ename": "NameError",
     "evalue": "name 'a' is not defined",
     "output_type": "error",
     "traceback": [
      "\u001b[1;31m---------------------------------------------------------------------------\u001b[0m",
      "\u001b[1;31mNameError\u001b[0m                                 Traceback (most recent call last)",
      "Cell \u001b[1;32mIn[6], line 1\u001b[0m\n\u001b[1;32m----> 1\u001b[0m E_tokenizer\u001b[38;5;241m.\u001b[39mdecode(\u001b[43ma\u001b[49m[\u001b[38;5;241m1\u001b[39m][\u001b[38;5;241m1\u001b[39m])\n",
      "\u001b[1;31mNameError\u001b[0m: name 'a' is not defined"
     ]
    }
   ],
   "source": [
    "E_tokenizer.decode(a[1][1])"
   ]
  },
  {
   "cell_type": "code",
   "execution_count": 7,
   "metadata": {},
   "outputs": [
    {
     "data": {
      "text/plain": [
       "'<start> tom sẽ không ở đây vào ngày mai tôi chắc chắn nói với bạn rằng <end>'"
      ]
     },
     "execution_count": 7,
     "metadata": {},
     "output_type": "execute_result"
    }
   ],
   "source": [
    "data = \"tom won't be here tomorrow . i'm sure to tell you that\"\n",
    "utils.predict_parallel(model, data, E_tokenizer, V_tokenizer, 'E')"
   ]
  },
  {
   "cell_type": "code",
   "execution_count": null,
   "metadata": {},
   "outputs": [],
   "source": []
  },
  {
   "cell_type": "code",
   "execution_count": 23,
   "metadata": {},
   "outputs": [
    {
     "ename": "AttributeError",
     "evalue": "'generator' object has no attribute 'sum'",
     "output_type": "error",
     "traceback": [
      "\u001b[1;31m---------------------------------------------------------------------------\u001b[0m",
      "\u001b[1;31mAttributeError\u001b[0m                            Traceback (most recent call last)",
      "Cell \u001b[1;32mIn[23], line 1\u001b[0m\n\u001b[1;32m----> 1\u001b[0m \u001b[43mmodel\u001b[49m\u001b[38;5;241;43m.\u001b[39;49m\u001b[43mparameters\u001b[49m\u001b[43m(\u001b[49m\u001b[43m)\u001b[49m\u001b[38;5;241;43m.\u001b[39;49m\u001b[43msum\u001b[49m()\n",
      "\u001b[1;31mAttributeError\u001b[0m: 'generator' object has no attribute 'sum'"
     ]
    }
   ],
   "source": []
  },
  {
   "cell_type": "code",
   "execution_count": 2,
   "metadata": {},
   "outputs": [],
   "source": [
    "with open(\"data/train.json\", \"r\", encoding='utf-8') as file:\n",
    "    train = json.load(file)\n",
    "with open(\"data/test.json\", \"r\", encoding='utf-8') as file:\n",
    "    test = json.load(file)\n",
    "with open(\"data/valid.json\", \"r\", encoding='utf-8') as file:\n",
    "    valid = json.load(file)\n",
    "with open(\"data/train1.json\", \"r\", encoding='utf-8') as file:\n",
    "    train1 = json.load(file)\n",
    "with open(\"data/test1.json\", \"r\", encoding='utf-8') as file:\n",
    "    test1 = json.load(file)\n",
    "with open(\"data/valid1.json\", \"r\", encoding='utf-8') as file:\n",
    "    valid1 = json.load(file)    \n"
   ]
  },
  {
   "cell_type": "code",
   "execution_count": 3,
   "metadata": {},
   "outputs": [],
   "source": [
    "with open(\"data/train1.json\", \"r\", encoding='utf-8') as file:\n",
    "    train1 = json.load(file)\n",
    "with open(\"data/valid1.json\", \"r\", encoding='utf-8') as file:\n",
    "    valid1 = json.load(file)\n",
    "with open(\"data/test1.json\", \"r\", encoding='utf-8') as file:\n",
    "    test1 = json.load(file)        \n",
    "    "
   ]
  },
  {
   "cell_type": "code",
   "execution_count": 30,
   "metadata": {},
   "outputs": [],
   "source": [
    "my = [train1, valid1, test1]\n",
    "for name in my:    \n",
    "    for i in range(len(name)):\n",
    "        name[i]['E'] = re.sub(r'^(en:|vi:)', '', name[i]['E'])\n",
    "        name[i]['V'] = re.sub(r'^(en:|vi:)', '', name[i]['V'])"
   ]
  },
  {
   "cell_type": "code",
   "execution_count": 31,
   "metadata": {},
   "outputs": [],
   "source": [
    "with open(\"data/valid1.json\", 'w', encoding='utf-8') as f:\n",
    "    json.dump(train1, f, ensure_ascii=False, indent=4)"
   ]
  },
  {
   "cell_type": "code",
   "execution_count": 1,
   "metadata": {},
   "outputs": [],
   "source": [
    "BOS = '<start>'\n",
    "EOS = '<end>'\n",
    "en = \"en: \"\n",
    "vi = \"vi: \"\n",
    "pattern = r'([^a-zA-Z0-9])'  \n",
    "def pre_tokenize(w):\n",
    "    w = re.sub(pattern, r' \\1 ', w)         \n",
    "    w = w.lower().strip()\n",
    "    w = re.sub(r\"([?.!,¿])\", r\" \\1 \", w)\n",
    "    w = re.sub(r'(\\d)', r' \\1 ', w)\n",
    "    w = re.sub(r'\\\\n', '', w)\n",
    "    w = re.sub(r'\\s*:\\s*', ' : ', w)\n",
    "    w = re.sub(r'([\"\\'])', r' \\1 ', w)    \n",
    "    w = re.sub(r'\\\\', ' ', w)\n",
    "    w = re.sub(r'-{2,}', '-', w)  # Thay thế 2 hoặc nhiều dấu gạch ngang liên tiếp bằng 1 dấu gạch ngang\n",
    "    w = re.sub(r'-+', ' - ', w)  # Thêm khoảng trắng xung quanh dấu gạch ngang hoặc chuỗi dấu gạch ngang\n",
    "    w = re.sub(r'[\" \"]+', \" \", w)\n",
    "    w = re.sub(r'\\s+', ' ', w)  # Loại bỏ khoảng trắng thừa\n",
    "    w = w.strip()\n",
    "    # Add start and end token \n",
    "    w = '{} {} {}'.format(BOS, w, EOS)"
   ]
  },
  {
   "cell_type": "code",
   "execution_count": 16,
   "metadata": {},
   "outputs": [],
   "source": [
    "name = [train, test, valid]\n",
    "for my in name:\n",
    "    for i in range(len(my)):\n",
    "        my[i]['E'] = f\"{en}{my[i]['E']}\" \n",
    "        my[i]['V'] = f\"{vi}{my[i]['V']}\""
   ]
  },
  {
   "cell_type": "code",
   "execution_count": 25,
   "metadata": {},
   "outputs": [],
   "source": [
    "train = train + train1\n",
    "test = test + test1\n",
    "valid = valid + valid1\n"
   ]
  },
  {
   "cell_type": "code",
   "execution_count": 36,
   "metadata": {},
   "outputs": [],
   "source": [
    "name = [train1, test1, valid1]\n",
    "vocabE = {}\n",
    "vocabV = {}\n",
    "vocabE[' '] = 0\n",
    "vocabV[' '] = 0\n",
    "k = 1\n",
    "h = 1\n",
    "for my in name:\n",
    "    for i in range(len(my)):\n",
    "        e = preprocess_sentence(my[i]['E'])\n",
    "        v = preprocess_sentence(my[i]['V']) \n",
    "        for w in e.split(sep = ' '):\n",
    "            if w not in vocabE:\n",
    "                vocabE[w] = k\n",
    "                k = k+1\n",
    "        for w in v.split(sep = ' '):\n",
    "            if w not in vocabV:\n",
    "                vocabV[w] = h\n",
    "                h = h+1        "
   ]
  },
  {
   "cell_type": "code",
   "execution_count": 37,
   "metadata": {},
   "outputs": [
    {
     "data": {
      "text/plain": [
       "['<start>', '-', 'it', '<end>']"
      ]
     },
     "execution_count": 37,
     "metadata": {},
     "output_type": "execute_result"
    }
   ],
   "source": [
    "preprocess_sentence('----it').split(sep = ' ')"
   ]
  },
  {
   "cell_type": "code",
   "execution_count": 40,
   "metadata": {},
   "outputs": [
    {
     "data": {
      "text/plain": [
       "21913"
      ]
     },
     "execution_count": 40,
     "metadata": {},
     "output_type": "execute_result"
    }
   ],
   "source": [
    "len(vocabV)"
   ]
  },
  {
   "cell_type": "code",
   "execution_count": 59,
   "metadata": {},
   "outputs": [],
   "source": [
    "with open('data/test1.json', 'w', encoding='utf-8') as f:\n",
    "    json.dump(test, f, ensure_ascii=False, indent=4)"
   ]
  },
  {
   "cell_type": "code",
   "execution_count": 16,
   "metadata": {},
   "outputs": [],
   "source": [
    "with open(\"vocab/vocabE2.json\", 'w', encoding='utf-8') as f:\n",
    "    json.dump(vocabE, f, ensure_ascii=False, indent=4)"
   ]
  },
  {
   "cell_type": "code",
   "execution_count": 6,
   "metadata": {},
   "outputs": [],
   "source": [
    "data = md.EV_Data('data/train.json', 'vocab/vocab_E.json', 'vocab/vocab_V.json')"
   ]
  },
  {
   "cell_type": "code",
   "execution_count": 40,
   "metadata": {},
   "outputs": [],
   "source": [
    "a = torch.randn(size = [4,4], requires_grad = True, dtype = torch.float32)\n",
    "index = torch.ones(size = [4, 2,2], dtype= torch.int64)"
   ]
  },
  {
   "cell_type": "code",
   "execution_count": 41,
   "metadata": {},
   "outputs": [
    {
     "data": {
      "text/plain": [
       "tensor([[[-0.0881, -0.0881],\n",
       "         [-1.1430, -1.1430]],\n",
       "\n",
       "        [[-0.0881, -0.0881],\n",
       "         [-1.1430, -1.1430]],\n",
       "\n",
       "        [[-0.0881, -0.0881],\n",
       "         [-1.1430, -1.1430]],\n",
       "\n",
       "        [[-0.0881, -0.0881],\n",
       "         [-1.1430, -1.1430]]], grad_fn=<GatherBackward0>)"
      ]
     },
     "execution_count": 41,
     "metadata": {},
     "output_type": "execute_result"
    }
   ],
   "source": [
    "torch.gather(a.repeat(4,1,1), dim = -1, index = index)"
   ]
  }
 ],
 "metadata": {
  "kernelspec": {
   "display_name": "Python 3",
   "language": "python",
   "name": "python3"
  },
  "language_info": {
   "codemirror_mode": {
    "name": "ipython",
    "version": 3
   },
   "file_extension": ".py",
   "mimetype": "text/x-python",
   "name": "python",
   "nbconvert_exporter": "python",
   "pygments_lexer": "ipython3",
   "version": "3.12.4"
  }
 },
 "nbformat": 4,
 "nbformat_minor": 2
}
